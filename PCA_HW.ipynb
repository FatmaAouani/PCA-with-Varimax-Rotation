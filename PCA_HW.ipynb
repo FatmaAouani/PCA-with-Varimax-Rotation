{
  "nbformat": 4,
  "nbformat_minor": 0,
  "metadata": {
    "colab": {
      "name": "PCA HW.ipynb",
      "provenance": [],
      "collapsed_sections": [],
      "include_colab_link": true
    },
    "kernelspec": {
      "name": "python3",
      "display_name": "Python 3"
    }
  },
  "cells": [
    {
      "cell_type": "markdown",
      "metadata": {
        "id": "view-in-github",
        "colab_type": "text"
      },
      "source": [
        "<a href=\"https://colab.research.google.com/github/FatmaAouani/PCA-with-Varimax-Rotation/blob/main/PCA_HW.ipynb\" target=\"_parent\"><img src=\"https://colab.research.google.com/assets/colab-badge.svg\" alt=\"Open In Colab\"/></a>"
      ]
    },
    {
      "cell_type": "markdown",
      "metadata": {
        "id": "VQ3syspj_rKn"
      },
      "source": [
        "# Principal Component Analysis (PCA)"
      ]
    },
    {
      "cell_type": "markdown",
      "metadata": {
        "id": "xJGl9TcT_skx"
      },
      "source": [
        "## 1- Importing the libraries"
      ]
    },
    {
      "cell_type": "code",
      "source": [
        "!pip install factor_analyzer"
      ],
      "metadata": {
        "id": "YzZmljcZWhJH"
      },
      "execution_count": null,
      "outputs": []
    },
    {
      "cell_type": "code",
      "metadata": {
        "id": "BNEgrGwd_29D"
      },
      "source": [
        "import numpy as np\n",
        "import matplotlib.pyplot as plt\n",
        "import pandas as pd"
      ],
      "execution_count": 164,
      "outputs": []
    },
    {
      "cell_type": "markdown",
      "metadata": {
        "id": "Hyp1gza1_6qX"
      },
      "source": [
        "## 2- Importing the dataset: PACS Fine Particles Samples"
      ]
    },
    {
      "cell_type": "code",
      "metadata": {
        "id": "lPLTDBVI__ZQ",
        "colab": {
          "base_uri": "https://localhost:8080/",
          "height": 173
        },
        "outputId": "85c85b90-b294-427a-ccd9-c1f7d575afb5"
      },
      "source": [
        "dataset = pd.read_csv('pca1.csv', sep=\";\" )\n",
        "X = dataset.iloc[:, :].values\n",
        "dataset.head()"
      ],
      "execution_count": 165,
      "outputs": [
        {
          "output_type": "execute_result",
          "data": {
            "text/plain": [
              "       F    NA    MG    AL     SI     S    CL     K    CA     TI  ...     FE  \\\n",
              "0  0.883  6.93  0.43  4.66   3.02  2.95  5.95  1.64  1.78  0.083  ...  4.530   \n",
              "1  0.090  0.19  0.00  0.19   0.39  2.60  0.79  0.19  0.11  0.011  ...  0.227   \n",
              "2  0.006  9.94  1.36  8.09  20.50  2.35  8.83  1.06  2.24  0.483  ...  5.660   \n",
              "\n",
              "      NI     CU     ZN     BR    PB     OC    EC     SO4    NO3  \n",
              "0  0.765  0.044  0.225  0.419  2.53   7.54  1.42  10.300  0.638  \n",
              "1  0.043  0.033  0.106  0.419  0.94  15.30  1.80   6.900  2.900  \n",
              "2  0.767  0.048  0.250  1.540  4.74  23.60  2.40   7.764  0.324  \n",
              "\n",
              "[3 rows x 23 columns]"
            ],
            "text/html": [
              "\n",
              "  <div id=\"df-b4c9a5fd-b8e4-428d-9877-5b8cc5a26264\">\n",
              "    <div class=\"colab-df-container\">\n",
              "      <div>\n",
              "<style scoped>\n",
              "    .dataframe tbody tr th:only-of-type {\n",
              "        vertical-align: middle;\n",
              "    }\n",
              "\n",
              "    .dataframe tbody tr th {\n",
              "        vertical-align: top;\n",
              "    }\n",
              "\n",
              "    .dataframe thead th {\n",
              "        text-align: right;\n",
              "    }\n",
              "</style>\n",
              "<table border=\"1\" class=\"dataframe\">\n",
              "  <thead>\n",
              "    <tr style=\"text-align: right;\">\n",
              "      <th></th>\n",
              "      <th>F</th>\n",
              "      <th>NA</th>\n",
              "      <th>MG</th>\n",
              "      <th>AL</th>\n",
              "      <th>SI</th>\n",
              "      <th>S</th>\n",
              "      <th>CL</th>\n",
              "      <th>K</th>\n",
              "      <th>CA</th>\n",
              "      <th>TI</th>\n",
              "      <th>...</th>\n",
              "      <th>FE</th>\n",
              "      <th>NI</th>\n",
              "      <th>CU</th>\n",
              "      <th>ZN</th>\n",
              "      <th>BR</th>\n",
              "      <th>PB</th>\n",
              "      <th>OC</th>\n",
              "      <th>EC</th>\n",
              "      <th>SO4</th>\n",
              "      <th>NO3</th>\n",
              "    </tr>\n",
              "  </thead>\n",
              "  <tbody>\n",
              "    <tr>\n",
              "      <th>0</th>\n",
              "      <td>0.883</td>\n",
              "      <td>6.93</td>\n",
              "      <td>0.43</td>\n",
              "      <td>4.66</td>\n",
              "      <td>3.02</td>\n",
              "      <td>2.95</td>\n",
              "      <td>5.95</td>\n",
              "      <td>1.64</td>\n",
              "      <td>1.78</td>\n",
              "      <td>0.083</td>\n",
              "      <td>...</td>\n",
              "      <td>4.530</td>\n",
              "      <td>0.765</td>\n",
              "      <td>0.044</td>\n",
              "      <td>0.225</td>\n",
              "      <td>0.419</td>\n",
              "      <td>2.53</td>\n",
              "      <td>7.54</td>\n",
              "      <td>1.42</td>\n",
              "      <td>10.300</td>\n",
              "      <td>0.638</td>\n",
              "    </tr>\n",
              "    <tr>\n",
              "      <th>1</th>\n",
              "      <td>0.090</td>\n",
              "      <td>0.19</td>\n",
              "      <td>0.00</td>\n",
              "      <td>0.19</td>\n",
              "      <td>0.39</td>\n",
              "      <td>2.60</td>\n",
              "      <td>0.79</td>\n",
              "      <td>0.19</td>\n",
              "      <td>0.11</td>\n",
              "      <td>0.011</td>\n",
              "      <td>...</td>\n",
              "      <td>0.227</td>\n",
              "      <td>0.043</td>\n",
              "      <td>0.033</td>\n",
              "      <td>0.106</td>\n",
              "      <td>0.419</td>\n",
              "      <td>0.94</td>\n",
              "      <td>15.30</td>\n",
              "      <td>1.80</td>\n",
              "      <td>6.900</td>\n",
              "      <td>2.900</td>\n",
              "    </tr>\n",
              "    <tr>\n",
              "      <th>2</th>\n",
              "      <td>0.006</td>\n",
              "      <td>9.94</td>\n",
              "      <td>1.36</td>\n",
              "      <td>8.09</td>\n",
              "      <td>20.50</td>\n",
              "      <td>2.35</td>\n",
              "      <td>8.83</td>\n",
              "      <td>1.06</td>\n",
              "      <td>2.24</td>\n",
              "      <td>0.483</td>\n",
              "      <td>...</td>\n",
              "      <td>5.660</td>\n",
              "      <td>0.767</td>\n",
              "      <td>0.048</td>\n",
              "      <td>0.250</td>\n",
              "      <td>1.540</td>\n",
              "      <td>4.74</td>\n",
              "      <td>23.60</td>\n",
              "      <td>2.40</td>\n",
              "      <td>7.764</td>\n",
              "      <td>0.324</td>\n",
              "    </tr>\n",
              "  </tbody>\n",
              "</table>\n",
              "<p>3 rows × 23 columns</p>\n",
              "</div>\n",
              "      <button class=\"colab-df-convert\" onclick=\"convertToInteractive('df-b4c9a5fd-b8e4-428d-9877-5b8cc5a26264')\"\n",
              "              title=\"Convert this dataframe to an interactive table.\"\n",
              "              style=\"display:none;\">\n",
              "        \n",
              "  <svg xmlns=\"http://www.w3.org/2000/svg\" height=\"24px\"viewBox=\"0 0 24 24\"\n",
              "       width=\"24px\">\n",
              "    <path d=\"M0 0h24v24H0V0z\" fill=\"none\"/>\n",
              "    <path d=\"M18.56 5.44l.94 2.06.94-2.06 2.06-.94-2.06-.94-.94-2.06-.94 2.06-2.06.94zm-11 1L8.5 8.5l.94-2.06 2.06-.94-2.06-.94L8.5 2.5l-.94 2.06-2.06.94zm10 10l.94 2.06.94-2.06 2.06-.94-2.06-.94-.94-2.06-.94 2.06-2.06.94z\"/><path d=\"M17.41 7.96l-1.37-1.37c-.4-.4-.92-.59-1.43-.59-.52 0-1.04.2-1.43.59L10.3 9.45l-7.72 7.72c-.78.78-.78 2.05 0 2.83L4 21.41c.39.39.9.59 1.41.59.51 0 1.02-.2 1.41-.59l7.78-7.78 2.81-2.81c.8-.78.8-2.07 0-2.86zM5.41 20L4 18.59l7.72-7.72 1.47 1.35L5.41 20z\"/>\n",
              "  </svg>\n",
              "      </button>\n",
              "      \n",
              "  <style>\n",
              "    .colab-df-container {\n",
              "      display:flex;\n",
              "      flex-wrap:wrap;\n",
              "      gap: 12px;\n",
              "    }\n",
              "\n",
              "    .colab-df-convert {\n",
              "      background-color: #E8F0FE;\n",
              "      border: none;\n",
              "      border-radius: 50%;\n",
              "      cursor: pointer;\n",
              "      display: none;\n",
              "      fill: #1967D2;\n",
              "      height: 32px;\n",
              "      padding: 0 0 0 0;\n",
              "      width: 32px;\n",
              "    }\n",
              "\n",
              "    .colab-df-convert:hover {\n",
              "      background-color: #E2EBFA;\n",
              "      box-shadow: 0px 1px 2px rgba(60, 64, 67, 0.3), 0px 1px 3px 1px rgba(60, 64, 67, 0.15);\n",
              "      fill: #174EA6;\n",
              "    }\n",
              "\n",
              "    [theme=dark] .colab-df-convert {\n",
              "      background-color: #3B4455;\n",
              "      fill: #D2E3FC;\n",
              "    }\n",
              "\n",
              "    [theme=dark] .colab-df-convert:hover {\n",
              "      background-color: #434B5C;\n",
              "      box-shadow: 0px 1px 3px 1px rgba(0, 0, 0, 0.15);\n",
              "      filter: drop-shadow(0px 1px 2px rgba(0, 0, 0, 0.3));\n",
              "      fill: #FFFFFF;\n",
              "    }\n",
              "  </style>\n",
              "\n",
              "      <script>\n",
              "        const buttonEl =\n",
              "          document.querySelector('#df-b4c9a5fd-b8e4-428d-9877-5b8cc5a26264 button.colab-df-convert');\n",
              "        buttonEl.style.display =\n",
              "          google.colab.kernel.accessAllowed ? 'block' : 'none';\n",
              "\n",
              "        async function convertToInteractive(key) {\n",
              "          const element = document.querySelector('#df-b4c9a5fd-b8e4-428d-9877-5b8cc5a26264');\n",
              "          const dataTable =\n",
              "            await google.colab.kernel.invokeFunction('convertToInteractive',\n",
              "                                                     [key], {});\n",
              "          if (!dataTable) return;\n",
              "\n",
              "          const docLinkHtml = 'Like what you see? Visit the ' +\n",
              "            '<a target=\"_blank\" href=https://colab.research.google.com/notebooks/data_table.ipynb>data table notebook</a>'\n",
              "            + ' to learn more about interactive tables.';\n",
              "          element.innerHTML = '';\n",
              "          dataTable['output_type'] = 'display_data';\n",
              "          await google.colab.output.renderOutput(dataTable, element);\n",
              "          const docLink = document.createElement('div');\n",
              "          docLink.innerHTML = docLinkHtml;\n",
              "          element.appendChild(docLink);\n",
              "        }\n",
              "      </script>\n",
              "    </div>\n",
              "  </div>\n",
              "  "
            ]
          },
          "metadata": {},
          "execution_count": 165
        }
      ]
    },
    {
      "cell_type": "markdown",
      "metadata": {
        "id": "1wrHODfJAEiI"
      },
      "source": [
        "## 3- Standardizing the Dataset"
      ]
    },
    {
      "cell_type": "code",
      "metadata": {
        "id": "W-UCD7ezAJG2"
      },
      "source": [
        "from sklearn.preprocessing import StandardScaler\n",
        "sc = StandardScaler()\n",
        "X = sc.fit_transform(X)"
      ],
      "execution_count": 166,
      "outputs": []
    },
    {
      "cell_type": "markdown",
      "metadata": {
        "id": "S3i3lRiwASAX"
      },
      "source": [
        "## 4- Applying PCA"
      ]
    },
    {
      "cell_type": "code",
      "source": [
        "from factor_analyzer import FactorAnalyzer\n",
        "fa = FactorAnalyzer(n_factors=2, method='principal', rotation=\"varimax\")\n",
        "fa.fit(X)"
      ],
      "metadata": {
        "id": "XGj6aEvYWGi7"
      },
      "execution_count": 167,
      "outputs": []
    },
    {
      "cell_type": "markdown",
      "source": [
        "## 5-  Results"
      ],
      "metadata": {
        "id": "4b-5j9UOeQd8"
      }
    },
    {
      "cell_type": "code",
      "source": [
        "fa.get_factor_variance()"
      ],
      "metadata": {
        "colab": {
          "base_uri": "https://localhost:8080/"
        },
        "id": "OXgGsDHiXs_F",
        "outputId": "29d1a8f6-6c4d-4788-d8f0-0efd87e1907c"
      },
      "execution_count": 169,
      "outputs": [
        {
          "output_type": "execute_result",
          "data": {
            "text/plain": [
              "(array([14.70351415,  8.29648585]),\n",
              " array([0.63928322, 0.36071678]),\n",
              " array([0.63928322, 1.        ]))"
            ]
          },
          "metadata": {},
          "execution_count": 169
        }
      ]
    },
    {
      "cell_type": "markdown",
      "source": [
        "Note: The function above returns the factor variances, the proportional factor variances and the cumulative factor variances."
      ],
      "metadata": {
        "id": "jTi0dT5oZoWw"
      }
    },
    {
      "cell_type": "markdown",
      "source": [
        "## Factorial weights matrix obtained for fine particles"
      ],
      "metadata": {
        "id": "RWqyyQfzebLs"
      }
    },
    {
      "cell_type": "code",
      "source": [
        "pca = fa.loadings_\n",
        "np.savetxt(\"results_pca.csv\", pca, delimiter=\",\", header='')"
      ],
      "metadata": {
        "id": "CgxbFzy1YZBL"
      },
      "execution_count": 170,
      "outputs": []
    },
    {
      "cell_type": "markdown",
      "source": [
        "Note: The function above returns the weights of the principal components for each of the species in our dataset."
      ],
      "metadata": {
        "id": "xFsZVjWKfxun"
      }
    },
    {
      "cell_type": "markdown",
      "source": [
        "![image.png](data:image/png;base64,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)"
      ],
      "metadata": {
        "id": "sIYs9hCveClr"
      }
    },
    {
      "cell_type": "markdown",
      "source": [
        "Note: values above 0.60 were highlighted in the table."
      ],
      "metadata": {
        "id": "M_k04Io-mFA0"
      }
    },
    {
      "cell_type": "markdown",
      "metadata": {
        "id": "UBx16JVLAuel"
      },
      "source": [
        "## Vizualizing the Principal Components"
      ]
    },
    {
      "cell_type": "code",
      "source": [
        "plt.scatter(X[:, 0], X[:, 1])\n",
        "plt.axis('equal')\n",
        "plt.xlabel(\"PC1\")\n",
        "plt.ylabel(\"PC2\")"
      ],
      "metadata": {
        "colab": {
          "base_uri": "https://localhost:8080/",
          "height": 296
        },
        "id": "9vI8zPRFCuGY",
        "outputId": "71ad7c3f-8b52-4584-f5c6-cffff4cdee00"
      },
      "execution_count": 172,
      "outputs": [
        {
          "output_type": "execute_result",
          "data": {
            "text/plain": [
              "Text(0, 0.5, 'PC2')"
            ]
          },
          "metadata": {},
          "execution_count": 172
        },
        {
          "output_type": "display_data",
          "data": {
            "text/plain": [
              "<Figure size 432x288 with 1 Axes>"
            ],
            "image/png": "[encoded data removed]"
          },
          "metadata": {
            "needs_background": "light"
          }
        }
      ]
    },
    {
      "cell_type": "markdown",
      "source": [
        "# 6- Comments"
      ],
      "metadata": {
        "id": "Y5W4TSVFhYDu"
      }
    },
    {
      "cell_type": "markdown",
      "source": [
        "A total of 23 variables were considered in the PCA with Varimax\n",
        "rotation and a total of two components were extracted covering 23% of\n",
        "the data variance for fine particles as shown in the table above. The first factor was related to Mg, Na, Al, Si, K, Ca, TI, V, Fe, Ni, Cu, Zn, Br and Pb, and it explained 14.7% of the variance. The second factor was related to F, S, K, Cr, Mn and SO4. These 2 fingerprint was compared to the results from EPA CM8.2 Sources but we couldn't associate this factor to a single source from the ones available in the PACS dataset.\n"
      ],
      "metadata": {
        "id": "CFrV7mDShbzw"
      }
    }
  ]
}